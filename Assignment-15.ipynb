{
 "cells": [
  {
   "cell_type": "markdown",
   "id": "26491e09-2d38-4ba8-ac09-580d49c7611d",
   "metadata": {},
   "source": [
    "#### (1)-\n",
    "##### Database is an organized collection of data which can be easily accessed and managed.\n",
    "##### Differences between SQL and NoSQL databases-\n",
    "##### SQL(Structured Query Language) is used for structured data, NoSQL(Not only Structured Query Language) is used for unstructed data like text files, audios, images etc.\n",
    "##### SQL databases have fixed or static or predefined schema, NoSQL databases have dynamic schema.\n",
    "##### In SQL databases all the data must be stored in the smae structure, but in NoSQL databases the data can be stored in graphs, charts, documents etc.\n",
    "##### SQL databases are table based but NoSQL databases are key-value pairs, document based, graphs or wide column stores.\n",
    "##### SQL databses are vertically scalable, NoSQL databases arehorizontally scalable\n",
    "##### SQL databases follow ACID poperties( Atomicity, Consistency, Isolation and Durability) whereas NoSQL databases follow CAP (Consistency, Availability and Partition tolerance)"
   ]
  },
  {
   "cell_type": "markdown",
   "id": "ec56090d-2b3f-44fb-af7f-e3f61771d26a",
   "metadata": {},
   "source": [
    "#### (2)-\n",
    "##### DDL(Data Definition Language) consists of SQL commands that can be used to define, create, modify and delete the database schema.\n",
    "##### CREATE- This command is used to create the database or its objects (like table, index, function, views, store procedure, and triggers).\n",
    "##### DROP- This command is used to delete objects from the database.\n",
    "##### ALTER- This is used to alter the structure of the database.\n",
    "##### TRUNCATE- This is used to remove all records from a table, including all spaces allocated for the records are removed.\n",
    "##### Example-"
   ]
  },
  {
   "cell_type": "code",
   "execution_count": null,
   "id": "fc24fca5-fb65-422b-adcc-d4d6ef670486",
   "metadata": {},
   "outputs": [],
   "source": [
    "CREATE TABLE person( first name VARCHAR(200), last name VARCHAR(200), address VARCHAR(500), phone_no INT );\n",
    "\n",
    "ALTER TABLE person\n",
    "ADD email_id VARCHAR(200);     # alter here adds a new column email_id to the table\n",
    "\n",
    "ALTER TABLE person\n",
    "DROP COLUMN email_id;      # it drops the column email_id in the table\n",
    "\n",
    "TRUNCATE TABLE person;     # it deletes the data inside the table but not the table itself"
   ]
  },
  {
   "cell_type": "markdown",
   "id": "8e9c4ea8-7b9e-4728-9c35-21c476d4386e",
   "metadata": {},
   "source": [
    "#### (3)-\n",
    "##### DML(Data Manipulation Language) commands in SQL deals with the manipulation of data stored in the databases. It doesn't deal with the changes to database objects and its structure.\n",
    "##### INSERT- Used to insert new data records or rows in the database table.\n",
    "##### UPDATE- Used to set the value of a field or column for a particular record to a new value\n",
    "##### DELETE- Used to remove one or more rows from the database table.\n",
    "##### Example-"
   ]
  },
  {
   "cell_type": "code",
   "execution_count": null,
   "id": "2ba5688f-0eb9-4e4e-a655-3eb068d6b21c",
   "metadata": {},
   "outputs": [],
   "source": [
    "INSERT INTO customers ( customer_id, items, date, order_id )\n",
    "VALUES (1005, 'wheat', '20-02-2023', 20056);\n",
    "\n",
    "UPDATE customers \n",
    "SET date = '18-02-2023'\n",
    "WHERE date= '20-02-2023';\n",
    "\n",
    "DELETE FROM customers\n",
    "WHERE customer_id= 1005\n",
    "AND order_id= 20056;\n"
   ]
  },
  {
   "cell_type": "markdown",
   "id": "51cac93c-23b1-440d-a71d-bb8de46bc551",
   "metadata": {},
   "source": [
    "#### (4)-\n",
    "##### DQL(Data Query Language) command in SQL is used to perform queries on the data within schema objects.\n",
    "##### SELECT- it is used to retreive data from the database."
   ]
  },
  {
   "cell_type": "code",
   "execution_count": null,
   "id": "41aa7a51-b8e3-429a-9f2d-cb2baeefe086",
   "metadata": {},
   "outputs": [],
   "source": [
    "SELECT * from customers;    # this selects all the columns in the customer table"
   ]
  },
  {
   "cell_type": "markdown",
   "id": "7a4c3e50-a2f5-4e5c-bab4-777a84f8be22",
   "metadata": {},
   "source": [
    "#### (5)-\n",
    "##### Primary key- Primary key is used to ensure that the data inside a specific column is unique. A column cannot have NULL values. \n",
    "##### Foreign key- Foreign key is a column or a group of columns in a relational database table that provides a link between data in 2 tables. It is usually a column that references a column, mostly primary key, of another table."
   ]
  },
  {
   "cell_type": "markdown",
   "id": "e0a26423-da78-4e7d-8087-7f9789b1bb82",
   "metadata": {},
   "source": [
    "#### (6)- \n",
    "##### connecting mysql to python-"
   ]
  },
  {
   "cell_type": "code",
   "execution_count": null,
   "id": "2575abf0-f85b-4684-becc-e1f8374d1253",
   "metadata": {},
   "outputs": [],
   "source": [
    "import mysql.connector()\n",
    "mydb= mysql.connector.connect(\n",
    "    host=\"localhost\",\n",
    "    user=\"abc\",\n",
    "    password=\"password\"\n",
    ")\n",
    "mycursor= mydb.cursor() \n",
    "mycursor.execute(\"CREATE DATABASE if not exists test\")\n",
    "mydb.close()"
   ]
  },
  {
   "cell_type": "markdown",
   "id": "26c0cbdd-65ec-4911-a3e1-b28d1d122b0a",
   "metadata": {},
   "source": [
    "##### cursor() method is used to create the cursor object. It is used to exceute statements, fetch data, call procedures etc. to communicate with the mysql database\n",
    "##### execute() method executes the given database operation (query or command)."
   ]
  },
  {
   "cell_type": "markdown",
   "id": "48e1ab29-c656-407a-8d82-d35edb378168",
   "metadata": {},
   "source": [
    "#### (7)-\n",
    "##### Order of execution of SQL clauses in SQL query-\n",
    "##### "
   ]
  }
 ],
 "metadata": {
  "kernelspec": {
   "display_name": "Python 3 (ipykernel)",
   "language": "python",
   "name": "python3"
  },
  "language_info": {
   "codemirror_mode": {
    "name": "ipython",
    "version": 3
   },
   "file_extension": ".py",
   "mimetype": "text/x-python",
   "name": "python",
   "nbconvert_exporter": "python",
   "pygments_lexer": "ipython3",
   "version": "3.10.8"
  }
 },
 "nbformat": 4,
 "nbformat_minor": 5
}
